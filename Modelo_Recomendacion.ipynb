{
 "cells": [
  {
   "attachments": {},
   "cell_type": "markdown",
   "metadata": {},
   "source": [
    "Algoritmo de recomendación"
   ]
  },
  {
   "cell_type": "code",
   "execution_count": 1,
   "metadata": {},
   "outputs": [],
   "source": [
    "#Comiezo importando librerias \n",
    "import pandas as pd\n",
    "import matplotlib.pyplot as plt\n",
    "%matplotlib inline\n",
    "from surprise import Dataset, Reader, SVD\n",
    "from surprise.model_selection import train_test_split"
   ]
  },
  {
   "cell_type": "code",
   "execution_count": 2,
   "metadata": {},
   "outputs": [],
   "source": [
    "#Cargo los datasets\n",
    "df_sco = pd.read_csv('./Datasets/score_movies.csv')\n",
    "\n",
    "df_plat = pd.read_csv('./Datasets/plataformas.csv')\n"
   ]
  },
  {
   "cell_type": "code",
   "execution_count": 3,
   "metadata": {},
   "outputs": [],
   "source": [
    "df_plat = df_plat[['movieId', 'title']]"
   ]
  },
  {
   "cell_type": "code",
   "execution_count": 4,
   "metadata": {},
   "outputs": [],
   "source": [
    "df_plat = df_plat.reset_index(drop=True)"
   ]
  },
  {
   "cell_type": "code",
   "execution_count": 5,
   "metadata": {},
   "outputs": [],
   "source": [
    "# Pasos previos\n",
    "\n",
    "N_filas = 100000 # Limitamos el dataset a N_filas\n",
    "\n",
    "reader = Reader(rating_scale=(1, 5))\n",
    "\n",
    "data = Dataset.load_from_df(df_sco[['userId', 'movieId', 'score']][:N_filas], reader)\n",
    "\n",
    "# Separamos nuestros datos\n",
    "\n",
    "trainset, testset = train_test_split(data, test_size=.25)"
   ]
  },
  {
   "cell_type": "code",
   "execution_count": 6,
   "metadata": {},
   "outputs": [
    {
     "data": {
      "text/plain": [
       "<surprise.prediction_algorithms.matrix_factorization.SVD at 0x1ff0011cf50>"
      ]
     },
     "execution_count": 6,
     "metadata": {},
     "output_type": "execute_result"
    }
   ],
   "source": [
    "# Entreno el modelo SVD\n",
    "\n",
    "modelo = SVD()\n",
    "\n",
    "modelo.fit(trainset)"
   ]
  },
  {
   "cell_type": "code",
   "execution_count": 7,
   "metadata": {},
   "outputs": [],
   "source": [
    "# Predigo\n",
    "\n",
    "predictions = modelo.test(testset)"
   ]
  },
  {
   "cell_type": "code",
   "execution_count": 8,
   "metadata": {},
   "outputs": [
    {
     "data": {
      "text/plain": [
       "Prediction(uid=465, iid='hs1852', r_ui=0.5, est=2.6432308106248352, details={'was_impossible': False})"
      ]
     },
     "execution_count": 8,
     "metadata": {},
     "output_type": "execute_result"
    }
   ],
   "source": [
    "predictions[1]"
   ]
  },
  {
   "cell_type": "code",
   "execution_count": 9,
   "metadata": {},
   "outputs": [
    {
     "data": {
      "text/plain": [
       "Prediction(uid=154, iid='as680', r_ui=None, est=3.668777310550158, details={'was_impossible': False})"
      ]
     },
     "execution_count": 9,
     "metadata": {},
     "output_type": "execute_result"
    }
   ],
   "source": [
    "# Hacemos una predicción al azar para usuario y película\n",
    "\n",
    "modelo.predict(154,'as680')"
   ]
  },
  {
   "cell_type": "code",
   "execution_count": 10,
   "metadata": {},
   "outputs": [
    {
     "data": {
      "text/html": [
       "<div>\n",
       "<style scoped>\n",
       "    .dataframe tbody tr th:only-of-type {\n",
       "        vertical-align: middle;\n",
       "    }\n",
       "\n",
       "    .dataframe tbody tr th {\n",
       "        vertical-align: top;\n",
       "    }\n",
       "\n",
       "    .dataframe thead th {\n",
       "        text-align: right;\n",
       "    }\n",
       "</style>\n",
       "<table border=\"1\" class=\"dataframe\">\n",
       "  <thead>\n",
       "    <tr style=\"text-align: right;\">\n",
       "      <th></th>\n",
       "      <th>userId</th>\n",
       "      <th>score</th>\n",
       "      <th>timestamp</th>\n",
       "      <th>movieId</th>\n",
       "      <th>title</th>\n",
       "    </tr>\n",
       "  </thead>\n",
       "  <tbody>\n",
       "    <tr>\n",
       "      <th>0</th>\n",
       "      <td>35487</td>\n",
       "      <td>4.0</td>\n",
       "      <td>1996-04-07</td>\n",
       "      <td>ns7682</td>\n",
       "      <td>otherlife</td>\n",
       "    </tr>\n",
       "    <tr>\n",
       "      <th>1</th>\n",
       "      <td>35487</td>\n",
       "      <td>4.0</td>\n",
       "      <td>1996-04-07</td>\n",
       "      <td>ns3147</td>\n",
       "      <td>scooby-doo!: mystery incorporated</td>\n",
       "    </tr>\n",
       "    <tr>\n",
       "      <th>2</th>\n",
       "      <td>35487</td>\n",
       "      <td>5.0</td>\n",
       "      <td>1996-04-07</td>\n",
       "      <td>ds1017</td>\n",
       "      <td>life is ruff</td>\n",
       "    </tr>\n",
       "    <tr>\n",
       "      <th>3</th>\n",
       "      <td>35487</td>\n",
       "      <td>5.0</td>\n",
       "      <td>1996-04-07</td>\n",
       "      <td>ns900</td>\n",
       "      <td>illegal woman</td>\n",
       "    </tr>\n",
       "    <tr>\n",
       "      <th>4</th>\n",
       "      <td>35487</td>\n",
       "      <td>4.0</td>\n",
       "      <td>1996-04-07</td>\n",
       "      <td>as7715</td>\n",
       "      <td>raymond &amp; miguel</td>\n",
       "    </tr>\n",
       "    <tr>\n",
       "      <th>5</th>\n",
       "      <td>35487</td>\n",
       "      <td>5.0</td>\n",
       "      <td>1996-04-07</td>\n",
       "      <td>ns2340</td>\n",
       "      <td>prem ratan dhan payo</td>\n",
       "    </tr>\n",
       "    <tr>\n",
       "      <th>6</th>\n",
       "      <td>35487</td>\n",
       "      <td>4.0</td>\n",
       "      <td>1996-04-07</td>\n",
       "      <td>as5262</td>\n",
       "      <td>nishabdham</td>\n",
       "    </tr>\n",
       "    <tr>\n",
       "      <th>7</th>\n",
       "      <td>35487</td>\n",
       "      <td>5.0</td>\n",
       "      <td>1996-04-07</td>\n",
       "      <td>ns2851</td>\n",
       "      <td>the last bomb of the second world war</td>\n",
       "    </tr>\n",
       "    <tr>\n",
       "      <th>8</th>\n",
       "      <td>35487</td>\n",
       "      <td>5.0</td>\n",
       "      <td>1996-04-07</td>\n",
       "      <td>ns1169</td>\n",
       "      <td>dota: dragon's blood</td>\n",
       "    </tr>\n",
       "    <tr>\n",
       "      <th>9</th>\n",
       "      <td>35487</td>\n",
       "      <td>4.0</td>\n",
       "      <td>1996-04-07</td>\n",
       "      <td>as8428</td>\n",
       "      <td>rifftrax: contamination</td>\n",
       "    </tr>\n",
       "    <tr>\n",
       "      <th>10</th>\n",
       "      <td>35487</td>\n",
       "      <td>5.0</td>\n",
       "      <td>1996-04-07</td>\n",
       "      <td>hs1710</td>\n",
       "      <td>harry benson: shoot first</td>\n",
       "    </tr>\n",
       "    <tr>\n",
       "      <th>11</th>\n",
       "      <td>35487</td>\n",
       "      <td>5.0</td>\n",
       "      <td>1996-04-07</td>\n",
       "      <td>as5305</td>\n",
       "      <td>baahubali the lost legends</td>\n",
       "    </tr>\n",
       "    <tr>\n",
       "      <th>12</th>\n",
       "      <td>35487</td>\n",
       "      <td>4.0</td>\n",
       "      <td>1996-04-07</td>\n",
       "      <td>ns7435</td>\n",
       "      <td>meet the trumps: from immigrant to president</td>\n",
       "    </tr>\n",
       "    <tr>\n",
       "      <th>13</th>\n",
       "      <td>35487</td>\n",
       "      <td>5.0</td>\n",
       "      <td>1996-04-07</td>\n",
       "      <td>hs1060</td>\n",
       "      <td>wwe nxt</td>\n",
       "    </tr>\n",
       "    <tr>\n",
       "      <th>14</th>\n",
       "      <td>35487</td>\n",
       "      <td>4.0</td>\n",
       "      <td>1996-04-07</td>\n",
       "      <td>as2659</td>\n",
       "      <td>dino dana</td>\n",
       "    </tr>\n",
       "    <tr>\n",
       "      <th>15</th>\n",
       "      <td>35487</td>\n",
       "      <td>5.0</td>\n",
       "      <td>1996-04-07</td>\n",
       "      <td>ns8081</td>\n",
       "      <td>standoff</td>\n",
       "    </tr>\n",
       "    <tr>\n",
       "      <th>16</th>\n",
       "      <td>35487</td>\n",
       "      <td>5.0</td>\n",
       "      <td>1996-04-07</td>\n",
       "      <td>ns1616</td>\n",
       "      <td>ink master</td>\n",
       "    </tr>\n",
       "    <tr>\n",
       "      <th>17</th>\n",
       "      <td>35487</td>\n",
       "      <td>5.0</td>\n",
       "      <td>1996-04-07</td>\n",
       "      <td>ns142</td>\n",
       "      <td>extraction</td>\n",
       "    </tr>\n",
       "    <tr>\n",
       "      <th>18</th>\n",
       "      <td>35487</td>\n",
       "      <td>5.0</td>\n",
       "      <td>1996-04-07</td>\n",
       "      <td>as1039</td>\n",
       "      <td>shane mauss: mating season</td>\n",
       "    </tr>\n",
       "  </tbody>\n",
       "</table>\n",
       "</div>"
      ],
      "text/plain": [
       "    userId  score   timestamp movieId  \\\n",
       "0    35487    4.0  1996-04-07  ns7682   \n",
       "1    35487    4.0  1996-04-07  ns3147   \n",
       "2    35487    5.0  1996-04-07  ds1017   \n",
       "3    35487    5.0  1996-04-07   ns900   \n",
       "4    35487    4.0  1996-04-07  as7715   \n",
       "5    35487    5.0  1996-04-07  ns2340   \n",
       "6    35487    4.0  1996-04-07  as5262   \n",
       "7    35487    5.0  1996-04-07  ns2851   \n",
       "8    35487    5.0  1996-04-07  ns1169   \n",
       "9    35487    4.0  1996-04-07  as8428   \n",
       "10   35487    5.0  1996-04-07  hs1710   \n",
       "11   35487    5.0  1996-04-07  as5305   \n",
       "12   35487    4.0  1996-04-07  ns7435   \n",
       "13   35487    5.0  1996-04-07  hs1060   \n",
       "14   35487    4.0  1996-04-07  as2659   \n",
       "15   35487    5.0  1996-04-07  ns8081   \n",
       "16   35487    5.0  1996-04-07  ns1616   \n",
       "17   35487    5.0  1996-04-07   ns142   \n",
       "18   35487    5.0  1996-04-07  as1039   \n",
       "\n",
       "                                           title  \n",
       "0                                      otherlife  \n",
       "1              scooby-doo!: mystery incorporated  \n",
       "2                                   life is ruff  \n",
       "3                                  illegal woman  \n",
       "4                               raymond & miguel  \n",
       "5                           prem ratan dhan payo  \n",
       "6                                     nishabdham  \n",
       "7          the last bomb of the second world war  \n",
       "8                           dota: dragon's blood  \n",
       "9                        rifftrax: contamination  \n",
       "10                     harry benson: shoot first  \n",
       "11                    baahubali the lost legends  \n",
       "12  meet the trumps: from immigrant to president  \n",
       "13                                       wwe nxt  \n",
       "14                                     dino dana  \n",
       "15                                      standoff  \n",
       "16                                    ink master  \n",
       "17                                    extraction  \n",
       "18                    shane mauss: mating season  "
      ]
     },
     "execution_count": 10,
     "metadata": {},
     "output_type": "execute_result"
    }
   ],
   "source": [
    "#Elijo un usuario al azar y hago una recomendación completa\n",
    "usuario = 35487 \n",
    "rating = 4   # Tomamos películas a las que haya calificado con 4 o 5 estrellas\n",
    "df_user = df_sco[(df_sco.userId == usuario) & (df_sco.score >= rating)]\n",
    "df_user = df_user.reset_index(drop=True)\n",
    "\n",
    "df_user = pd.merge(df_user, df_plat[['movieId', 'title']], on='movieId', how='left')\n",
    "df_user"
   ]
  },
  {
   "cell_type": "code",
   "execution_count": 11,
   "metadata": {},
   "outputs": [
    {
     "name": "stdout",
     "output_type": "stream",
     "text": [
      "(4499, 2)\n"
     ]
    },
    {
     "data": {
      "text/html": [
       "<div>\n",
       "<style scoped>\n",
       "    .dataframe tbody tr th:only-of-type {\n",
       "        vertical-align: middle;\n",
       "    }\n",
       "\n",
       "    .dataframe tbody tr th {\n",
       "        vertical-align: top;\n",
       "    }\n",
       "\n",
       "    .dataframe thead th {\n",
       "        text-align: right;\n",
       "    }\n",
       "</style>\n",
       "<table border=\"1\" class=\"dataframe\">\n",
       "  <thead>\n",
       "    <tr style=\"text-align: right;\">\n",
       "      <th></th>\n",
       "      <th>movieId</th>\n",
       "      <th>title</th>\n",
       "    </tr>\n",
       "  </thead>\n",
       "  <tbody>\n",
       "    <tr>\n",
       "      <th>0</th>\n",
       "      <td>as1</td>\n",
       "      <td>the grand seduction</td>\n",
       "    </tr>\n",
       "    <tr>\n",
       "      <th>1</th>\n",
       "      <td>as2</td>\n",
       "      <td>take care good night</td>\n",
       "    </tr>\n",
       "    <tr>\n",
       "      <th>2</th>\n",
       "      <td>as3</td>\n",
       "      <td>secrets of deception</td>\n",
       "    </tr>\n",
       "    <tr>\n",
       "      <th>3</th>\n",
       "      <td>as4</td>\n",
       "      <td>pink: staying true</td>\n",
       "    </tr>\n",
       "    <tr>\n",
       "      <th>4</th>\n",
       "      <td>as5</td>\n",
       "      <td>monster maker</td>\n",
       "    </tr>\n",
       "  </tbody>\n",
       "</table>\n",
       "</div>"
      ],
      "text/plain": [
       "  movieId                 title\n",
       "0     as1   the grand seduction\n",
       "1     as2  take care good night\n",
       "2     as3  secrets of deception\n",
       "3     as4    pink: staying true\n",
       "4     as5         monster maker"
      ]
     },
     "execution_count": 11,
     "metadata": {},
     "output_type": "execute_result"
    }
   ],
   "source": [
    "recomendaciones_usuario = df_plat.iloc[:4499].copy()\n",
    "print(recomendaciones_usuario.shape)\n",
    "recomendaciones_usuario.head()"
   ]
  },
  {
   "cell_type": "code",
   "execution_count": 12,
   "metadata": {},
   "outputs": [
    {
     "name": "stdout",
     "output_type": "stream",
     "text": [
      "(26, 4)\n"
     ]
    },
    {
     "data": {
      "text/html": [
       "<div>\n",
       "<style scoped>\n",
       "    .dataframe tbody tr th:only-of-type {\n",
       "        vertical-align: middle;\n",
       "    }\n",
       "\n",
       "    .dataframe tbody tr th {\n",
       "        vertical-align: top;\n",
       "    }\n",
       "\n",
       "    .dataframe thead th {\n",
       "        text-align: right;\n",
       "    }\n",
       "</style>\n",
       "<table border=\"1\" class=\"dataframe\">\n",
       "  <thead>\n",
       "    <tr style=\"text-align: right;\">\n",
       "      <th></th>\n",
       "      <th>userId</th>\n",
       "      <th>score</th>\n",
       "      <th>timestamp</th>\n",
       "      <th>movieId</th>\n",
       "    </tr>\n",
       "  </thead>\n",
       "  <tbody>\n",
       "    <tr>\n",
       "      <th>3412075</th>\n",
       "      <td>35487</td>\n",
       "      <td>3.0</td>\n",
       "      <td>1996-04-07</td>\n",
       "      <td>ns8098</td>\n",
       "    </tr>\n",
       "    <tr>\n",
       "      <th>3412076</th>\n",
       "      <td>35487</td>\n",
       "      <td>4.0</td>\n",
       "      <td>1996-04-07</td>\n",
       "      <td>ns7682</td>\n",
       "    </tr>\n",
       "    <tr>\n",
       "      <th>3412077</th>\n",
       "      <td>35487</td>\n",
       "      <td>4.0</td>\n",
       "      <td>1996-04-07</td>\n",
       "      <td>ns3147</td>\n",
       "    </tr>\n",
       "    <tr>\n",
       "      <th>3412078</th>\n",
       "      <td>35487</td>\n",
       "      <td>5.0</td>\n",
       "      <td>1996-04-07</td>\n",
       "      <td>ds1017</td>\n",
       "    </tr>\n",
       "    <tr>\n",
       "      <th>3412079</th>\n",
       "      <td>35487</td>\n",
       "      <td>5.0</td>\n",
       "      <td>1996-04-07</td>\n",
       "      <td>ns900</td>\n",
       "    </tr>\n",
       "  </tbody>\n",
       "</table>\n",
       "</div>"
      ],
      "text/plain": [
       "         userId  score   timestamp movieId\n",
       "3412075   35487    3.0  1996-04-07  ns8098\n",
       "3412076   35487    4.0  1996-04-07  ns7682\n",
       "3412077   35487    4.0  1996-04-07  ns3147\n",
       "3412078   35487    5.0  1996-04-07  ds1017\n",
       "3412079   35487    5.0  1996-04-07   ns900"
      ]
     },
     "execution_count": 12,
     "metadata": {},
     "output_type": "execute_result"
    }
   ],
   "source": [
    "#extraigo las películas que ya ha visto\n",
    "\n",
    "usuario_vistas = df_sco[df_sco['userId'] == usuario]\n",
    "print(usuario_vistas.shape)\n",
    "usuario_vistas.head()"
   ]
  },
  {
   "cell_type": "code",
   "execution_count": 13,
   "metadata": {},
   "outputs": [
    {
     "data": {
      "text/plain": [
       "(4497, 2)"
      ]
     },
     "execution_count": 13,
     "metadata": {},
     "output_type": "execute_result"
    }
   ],
   "source": [
    "# Eliminamos las peliculas que el usuario ya vió\n",
    "\n",
    "recomendaciones_usuario = recomendaciones_usuario[~recomendaciones_usuario['movieId'].isin(usuario_vistas['movieId'])]\n",
    "\n",
    "recomendaciones_usuario.shape"
   ]
  },
  {
   "cell_type": "code",
   "execution_count": 14,
   "metadata": {},
   "outputs": [],
   "source": [
    "# Recomiendo\n",
    "\n",
    "recomendaciones_usuario['Estimate_Score'] = recomendaciones_usuario['movieId'].apply(lambda x: modelo.predict(usuario, x).est)"
   ]
  },
  {
   "cell_type": "code",
   "execution_count": 15,
   "metadata": {},
   "outputs": [
    {
     "name": "stdout",
     "output_type": "stream",
     "text": [
      "     movieId                                      title  Estimate_Score\n",
      "2108  as2109                           infinity chamber        3.930399\n",
      "2005  as2006  jonas kaufmann - a global star in private        3.921282\n",
      "4055  as4056                     motives 2: retribution        3.907603\n",
      "1691  as1692                            meet your match        3.894208\n",
      "2904  as2905                                   carriers        3.880700\n",
      "3981  as3982                          we are still here        3.878394\n",
      "393    as394                  the wild horse redemption        3.867312\n",
      "2647  as2648                            disco godfather        3.864574\n",
      "3187  as3188                                     ax men        3.861677\n",
      "4083  as4084            animal songs by little baby bum        3.856302\n"
     ]
    }
   ],
   "source": [
    "recomendaciones_usuario = recomendaciones_usuario.sort_values('Estimate_Score', ascending=False)\n",
    "print(recomendaciones_usuario.head(10))"
   ]
  },
  {
   "attachments": {},
   "cell_type": "markdown",
   "metadata": {},
   "source": [
    "### Predicción con un usuario y pelicula "
   ]
  },
  {
   "cell_type": "code",
   "execution_count": 16,
   "metadata": {},
   "outputs": [],
   "source": [
    "def movie_recommendation(userId, movieId):\n",
    "    # Obtenemos la predicción de la calificación que el usuario le daría a la película\n",
    "    prediction = modelo.predict(userId, str(movieId))\n",
    "\n",
    "    # Si la predicción es mayor o igual a 3.5, se recomienda la película\n",
    "    if prediction.est >= 3.5:\n",
    "        return \"Recomendada\", prediction.est\n",
    "    else:\n",
    "        return \"No recomendada\", prediction.est"
   ]
  },
  {
   "cell_type": "code",
   "execution_count": 17,
   "metadata": {},
   "outputs": [
    {
     "data": {
      "text/plain": [
       "('No recomendada', 2.8444224864724568)"
      ]
     },
     "execution_count": 17,
     "metadata": {},
     "output_type": "execute_result"
    }
   ],
   "source": [
    "#Pruebo la función\n",
    "movie_recommendation(59, 'ns65')"
   ]
  },
  {
   "cell_type": "code",
   "execution_count": 18,
   "metadata": {},
   "outputs": [
    {
     "name": "stdout",
     "output_type": "stream",
     "text": [
      "RMSE: 0.9683\n"
     ]
    },
    {
     "data": {
      "text/plain": [
       "0.9682768769629191"
      ]
     },
     "execution_count": 18,
     "metadata": {},
     "output_type": "execute_result"
    }
   ],
   "source": [
    "#Evaluo el modelo \n",
    "from surprise import accuracy\n",
    "\n",
    "accuracy.rmse(predictions)"
   ]
  },
  {
   "cell_type": "code",
   "execution_count": 19,
   "metadata": {},
   "outputs": [
    {
     "name": "stdout",
     "output_type": "stream",
     "text": [
      "1\n",
      "Evaluating RMSE of algorithm SVD on 3 split(s).\n",
      "\n",
      "                  Fold 1  Fold 2  Fold 3  Mean    Std     \n",
      "RMSE (testset)    0.9459  0.9521  0.9503  0.9495  0.0026  \n",
      "Fit time          0.29    0.27    0.28    0.28    0.01    \n",
      "Test time         0.13    0.19    0.19    0.17    0.03    \n",
      "2\n",
      "Evaluating RMSE of algorithm SVD on 3 split(s).\n",
      "\n",
      "                  Fold 1  Fold 2  Fold 3  Mean    Std     \n",
      "RMSE (testset)    0.9530  0.9452  0.9513  0.9498  0.0033  \n",
      "Fit time          0.29    0.27    0.28    0.28    0.01    \n",
      "Test time         0.20    0.21    0.13    0.18    0.04    \n",
      "4\n",
      "Evaluating RMSE of algorithm SVD on 3 split(s).\n",
      "\n",
      "                  Fold 1  Fold 2  Fold 3  Mean    Std     \n",
      "RMSE (testset)    0.9446  0.9502  0.9546  0.9498  0.0041  \n",
      "Fit time          0.28    0.30    0.29    0.29    0.01    \n",
      "Test time         0.13    0.13    0.13    0.13    0.00    \n",
      "8\n",
      "Evaluating RMSE of algorithm SVD on 3 split(s).\n",
      "\n",
      "                  Fold 1  Fold 2  Fold 3  Mean    Std     \n",
      "RMSE (testset)    0.9564  0.9524  0.9419  0.9502  0.0062  \n",
      "Fit time          0.30    0.30    0.30    0.30    0.00    \n",
      "Test time         0.20    0.20    0.13    0.17    0.03    \n",
      "16\n",
      "Evaluating RMSE of algorithm SVD on 3 split(s).\n",
      "\n",
      "                  Fold 1  Fold 2  Fold 3  Mean    Std     \n",
      "RMSE (testset)    0.9520  0.9508  0.9495  0.9508  0.0010  \n",
      "Fit time          0.33    0.34    0.34    0.34    0.00    \n",
      "Test time         0.13    0.13    0.13    0.13    0.00    \n",
      "32\n",
      "Evaluating RMSE of algorithm SVD on 3 split(s).\n",
      "\n",
      "                  Fold 1  Fold 2  Fold 3  Mean    Std     \n",
      "RMSE (testset)    0.9545  0.9469  0.9586  0.9533  0.0048  \n",
      "Fit time          0.43    0.43    0.43    0.43    0.00    \n",
      "Test time         0.13    0.20    0.20    0.17    0.03    \n",
      "64\n",
      "Evaluating RMSE of algorithm SVD on 3 split(s).\n",
      "\n",
      "                  Fold 1  Fold 2  Fold 3  Mean    Std     \n",
      "RMSE (testset)    0.9577  0.9501  0.9640  0.9573  0.0057  \n",
      "Fit time          0.59    0.60    0.60    0.60    0.00    \n",
      "Test time         0.20    0.21    0.14    0.18    0.03    \n",
      "128\n",
      "Evaluating RMSE of algorithm SVD on 3 split(s).\n",
      "\n",
      "                  Fold 1  Fold 2  Fold 3  Mean    Std     \n",
      "RMSE (testset)    0.9577  0.9605  0.9663  0.9615  0.0036  \n",
      "Fit time          0.87    0.86    0.86    0.86    0.00    \n",
      "Test time         0.14    0.14    0.20    0.16    0.03    \n"
     ]
    }
   ],
   "source": [
    "#Optimizo hiperparametros\n",
    "from surprise.model_selection import cross_validate\n",
    "import numpy as np\n",
    "\n",
    "rmse_test_means = []\n",
    "factores = [1,2,4,8,16,32,64,128]\n",
    "\n",
    "for factor in factores:\n",
    "    print(factor)\n",
    "    model = SVD(n_factors=factor)\n",
    "    cv = cross_validate(model, data, measures=['RMSE'], cv = 3, verbose=True)\n",
    "    rmse_test_means.append(np.mean(cv['test_rmse']))"
   ]
  },
  {
   "attachments": {},
   "cell_type": "markdown",
   "metadata": {},
   "source": [
    "## Creo una interfaz para el modelo"
   ]
  },
  {
   "cell_type": "code",
   "execution_count": 20,
   "metadata": {},
   "outputs": [],
   "source": [
    "#Creo una función para extraer el titulo\n",
    "def titulo(movieId):\n",
    "    return df_plat[df_plat.movieId == movieId].title.iloc[0].title()"
   ]
  },
  {
   "cell_type": "code",
   "execution_count": 21,
   "metadata": {},
   "outputs": [
    {
     "data": {
      "text/plain": [
       "'A Tale Of Two Critters'"
      ]
     },
     "execution_count": 21,
     "metadata": {},
     "output_type": "execute_result"
    }
   ],
   "source": [
    "#Pruebo la función\n",
    "titulo(\"ds568\")"
   ]
  },
  {
   "cell_type": "code",
   "execution_count": 22,
   "metadata": {},
   "outputs": [],
   "source": [
    "#fusiono ambas funciono\n",
    "def title_recommendation(userId, movieId):\n",
    "    recomendado, puntaje = movie_recommendation(userId, movieId)\n",
    "    titulo_1 = titulo(movieId)\n",
    "    return (recomendado, puntaje,titulo_1)"
   ]
  },
  {
   "cell_type": "code",
   "execution_count": 23,
   "metadata": {},
   "outputs": [
    {
     "data": {
      "text/plain": [
       "('No recomendada', 3.204704745501258, 'A Tale Of Two Critters')"
      ]
     },
     "execution_count": 23,
     "metadata": {},
     "output_type": "execute_result"
    }
   ],
   "source": [
    "title_recommendation(548,\"ds568\")"
   ]
  },
  {
   "cell_type": "code",
   "execution_count": 24,
   "metadata": {},
   "outputs": [
    {
     "name": "stderr",
     "output_type": "stream",
     "text": [
      "C:\\Users\\jose_\\AppData\\Roaming\\Python\\Python311\\site-packages\\gradio\\inputs.py:59: UserWarning: Usage of gradio.inputs is deprecated, and will not be supported in the future, please import your component from gradio.components\n",
      "  warnings.warn(\n",
      "C:\\Users\\jose_\\AppData\\Roaming\\Python\\Python311\\site-packages\\gradio\\deprecation.py:40: UserWarning: `optional` parameter is deprecated, and it has no effect\n",
      "  warnings.warn(value)\n"
     ]
    },
    {
     "name": "stdout",
     "output_type": "stream",
     "text": [
      "Running on local URL:  http://127.0.0.1:7860\n",
      "Running on public URL: https://71f2422a230edfba31.gradio.live\n",
      "\n",
      "This share link expires in 72 hours. For free permanent hosting and GPU upgrades (NEW!), check out Spaces: https://huggingface.co/spaces\n"
     ]
    },
    {
     "data": {
      "text/html": [
       "<div><iframe src=\"https://71f2422a230edfba31.gradio.live\" width=\"100%\" height=\"500\" allow=\"autoplay; camera; microphone; clipboard-read; clipboard-write;\" frameborder=\"0\" allowfullscreen></iframe></div>"
      ],
      "text/plain": [
       "<IPython.core.display.HTML object>"
      ]
     },
     "metadata": {},
     "output_type": "display_data"
    },
    {
     "data": {
      "text/plain": []
     },
     "execution_count": 24,
     "metadata": {},
     "output_type": "execute_result"
    }
   ],
   "source": [
    "import gradio as gr\n",
    "\n",
    "title = str(\"PelisFrankRecomendation.SA\")\n",
    "\n",
    "with gr.Blocks(title=title) as demo:\n",
    "    nro_usuario = gr.inputs.Number(label='tu numero de usario')\n",
    "    peli = gr.Textbox(label='numero de pelicula')\n",
    "    recomendacion = gr.Button('matchea con tu pelicula')\n",
    "    title = gr.Textbox(label='tu match se llama')\n",
    "    output = gr.Textbox(label= 'le gustas o no')\n",
    "    score = gr.Textbox(label='calidad del match')\n",
    "    recomendacion.click(fn = title_recommendation, inputs=[nro_usuario,peli], outputs=[output, score,title])\n",
    "demo.launch(share = True)"
   ]
  }
 ],
 "metadata": {
  "kernelspec": {
   "display_name": "Python 3",
   "language": "python",
   "name": "python3"
  },
  "language_info": {
   "codemirror_mode": {
    "name": "ipython",
    "version": 3
   },
   "file_extension": ".py",
   "mimetype": "text/x-python",
   "name": "python",
   "nbconvert_exporter": "python",
   "pygments_lexer": "ipython3",
   "version": "3.11.1"
  },
  "orig_nbformat": 4,
  "vscode": {
   "interpreter": {
    "hash": "c812eb984687e98b7686c463c3fae2045e58b2a2b4e065b3dcebe3cb7d51662e"
   }
  }
 },
 "nbformat": 4,
 "nbformat_minor": 2
}
